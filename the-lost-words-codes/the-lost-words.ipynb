{
 "cells": [
  {
   "cell_type": "code",
   "execution_count": null,
   "metadata": {},
   "outputs": [],
   "source": [
    "import pandas as pd\n"
   ]
  },
  {
   "cell_type": "markdown",
   "metadata": {},
   "source": [
    "# PEN data"
   ]
  },
  {
   "cell_type": "code",
   "execution_count": null,
   "metadata": {},
   "outputs": [],
   "source": [
    "# reading a csv file and convertingto a dataframe\n",
    "df = pd.read_csv(\"PEN-America's-Index-of-School-Book-Bans-2022-2023.csv\", header = 2) #bc the first two rows are empty/filled with unnecessary cells\n",
    "df.head()"
   ]
  },
  {
   "cell_type": "code",
   "execution_count": 12,
   "metadata": {},
   "outputs": [
    {
     "data": {
      "text/plain": [
       "pandas.core.frame.DataFrame"
      ]
     },
     "execution_count": 12,
     "metadata": {},
     "output_type": "execute_result"
    }
   ],
   "source": [
    "# i just wanna see the headers\n",
    "df[:0] \n",
    "type(df[:0])"
   ]
  },
  {
   "cell_type": "code",
   "execution_count": null,
   "metadata": {},
   "outputs": [],
   "source": [
    "# the next step i wanna do is make visuals:\n",
    "    # school book bans by state\n",
    "    # unique numbers of books per state\n",
    "    # Top banned books, sorted by number of unique school districts each was banned in.\n",
    "    # Proportion of banned books by age group and by genre.\n",
    "    # Histogram showing distribution of book publication year.\n",
    "    # Histogram showing page number distribution of banned books.\n",
    "    # Number of unique school districts each author was banned in. Authors who are White and identify as men are colored in yellow.\n",
    "    # Top topics found in banned book descriptions."
   ]
  },
  {
   "cell_type": "code",
   "execution_count": null,
   "metadata": {},
   "outputs": [],
   "source": [
    "# but before that, i need to find the following of each banned book from PEN using google books:\n",
    "    # book pages\n",
    "    # proportion of banned books by age group and by genre\n",
    "\n",
    "# i remember from last time, the only thing that i needed from the whole indexes of the data \n",
    "# from google books API was volumneInfo so I might stick to that\n",
    "# the things that"
   ]
  },
  {
   "cell_type": "markdown",
   "metadata": {},
   "source": [
    "# google API "
   ]
  },
  {
   "cell_type": "code",
   "execution_count": 10,
   "metadata": {},
   "outputs": [],
   "source": [
    "from pathlib import Path\n",
    "import requests"
   ]
  },
  {
   "cell_type": "code",
   "execution_count": null,
   "metadata": {},
   "outputs": [],
   "source": [
    "# api key\n",
    "file_path = Path.home() / \"Desktop\" / \"winter2025\" / \"stat386\" / \"api-keys\" / \"google-books-api-key.txt\"\n",
    "\n",
    "if file_path.exists():\n",
    "        with file_path.open(\"r\") as file:\n",
    "            books_key = file.read().strip()\n",
    "else:\n",
    "        print(\"API key file not found!\")"
   ]
  },
  {
   "cell_type": "code",
   "execution_count": null,
   "metadata": {},
   "outputs": [],
   "source": [
    "# This request has a single required parameter:\n",
    "\n",
    "# q - Search for volumes that contain this text string. There are special keywords you can specify in the search terms to search in particular fields, such as:\n",
    "    # intitle: Returns results where the text following this keyword is found in the title.\n",
    "    # inauthor: Returns results where the text following this keyword is found in the author.\n",
    "    # inpublisher: Returns results where the text following this keyword is found in the publisher.\n",
    "    # subject: Returns results where the text following this keyword is listed in the category list of the volume.\n",
    "    # isbn: Returns results where the text following this keyword is the ISBN number.\n",
    "    # lccn: Returns results where the text following this keyword is the Library of Congress Control Number.\n",
    "    # oclc: Returns results where the text following this keyword is the Online Computer Library Center number."
   ]
  },
  {
   "cell_type": "code",
   "execution_count": null,
   "metadata": {},
   "outputs": [],
   "source": [
    "url = ''\n",
    "\n",
    "params = {\n",
    "    q = ,\n",
    "    \n",
    "}\n",
    "\n",
    "r = requests.get(url, params = params)"
   ]
  }
 ],
 "metadata": {
  "kernelspec": {
   "display_name": "env386",
   "language": "python",
   "name": "python3"
  },
  "language_info": {
   "codemirror_mode": {
    "name": "ipython",
    "version": 3
   },
   "file_extension": ".py",
   "mimetype": "text/x-python",
   "name": "python",
   "nbconvert_exporter": "python",
   "pygments_lexer": "ipython3",
   "version": "3.12.8"
  }
 },
 "nbformat": 4,
 "nbformat_minor": 2
}
